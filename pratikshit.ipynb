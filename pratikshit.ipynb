{
 "cells": [
  {
   "cell_type": "code",
   "execution_count": 3,
   "metadata": {},
   "outputs": [],
   "source": [
    "import pandas as pd"
   ]
  },
  {
   "cell_type": "code",
   "execution_count": 4,
   "metadata": {},
   "outputs": [],
   "source": [
    "df = pd.read_csv('2010-capitalbikeshare-tripdata.csv')"
   ]
  },
  {
   "cell_type": "code",
   "execution_count": 5,
   "metadata": {},
   "outputs": [
    {
     "data": {
      "text/html": [
       "<div>\n",
       "<style scoped>\n",
       "    .dataframe tbody tr th:only-of-type {\n",
       "        vertical-align: middle;\n",
       "    }\n",
       "\n",
       "    .dataframe tbody tr th {\n",
       "        vertical-align: top;\n",
       "    }\n",
       "\n",
       "    .dataframe thead th {\n",
       "        text-align: right;\n",
       "    }\n",
       "</style>\n",
       "<table border=\"1\" class=\"dataframe\">\n",
       "  <thead>\n",
       "    <tr style=\"text-align: right;\">\n",
       "      <th></th>\n",
       "      <th>Duration</th>\n",
       "      <th>Start date</th>\n",
       "      <th>End date</th>\n",
       "      <th>Start station number</th>\n",
       "      <th>Start station</th>\n",
       "      <th>End station number</th>\n",
       "      <th>End station</th>\n",
       "      <th>Bike number</th>\n",
       "      <th>Member type</th>\n",
       "    </tr>\n",
       "  </thead>\n",
       "  <tbody>\n",
       "    <tr>\n",
       "      <th>0</th>\n",
       "      <td>1012</td>\n",
       "      <td>2010-09-20 11:27:04</td>\n",
       "      <td>2010-09-20 11:43:56</td>\n",
       "      <td>31208</td>\n",
       "      <td>M St &amp; New Jersey Ave SE</td>\n",
       "      <td>31108</td>\n",
       "      <td>4th &amp; M St SW</td>\n",
       "      <td>W00742</td>\n",
       "      <td>Member</td>\n",
       "    </tr>\n",
       "    <tr>\n",
       "      <th>1</th>\n",
       "      <td>61</td>\n",
       "      <td>2010-09-20 11:41:22</td>\n",
       "      <td>2010-09-20 11:42:23</td>\n",
       "      <td>31209</td>\n",
       "      <td>1st &amp; N St  SE</td>\n",
       "      <td>31209</td>\n",
       "      <td>1st &amp; N St  SE</td>\n",
       "      <td>W00032</td>\n",
       "      <td>Member</td>\n",
       "    </tr>\n",
       "    <tr>\n",
       "      <th>2</th>\n",
       "      <td>2690</td>\n",
       "      <td>2010-09-20 12:05:37</td>\n",
       "      <td>2010-09-20 12:50:27</td>\n",
       "      <td>31600</td>\n",
       "      <td>5th &amp; K St NW</td>\n",
       "      <td>31100</td>\n",
       "      <td>19th St &amp; Pennsylvania Ave NW</td>\n",
       "      <td>W00993</td>\n",
       "      <td>Member</td>\n",
       "    </tr>\n",
       "    <tr>\n",
       "      <th>3</th>\n",
       "      <td>1406</td>\n",
       "      <td>2010-09-20 12:06:05</td>\n",
       "      <td>2010-09-20 12:29:32</td>\n",
       "      <td>31600</td>\n",
       "      <td>5th &amp; K St NW</td>\n",
       "      <td>31602</td>\n",
       "      <td>Park Rd &amp; Holmead Pl NW</td>\n",
       "      <td>W00344</td>\n",
       "      <td>Member</td>\n",
       "    </tr>\n",
       "    <tr>\n",
       "      <th>4</th>\n",
       "      <td>1413</td>\n",
       "      <td>2010-09-20 12:10:43</td>\n",
       "      <td>2010-09-20 12:34:17</td>\n",
       "      <td>31100</td>\n",
       "      <td>19th St &amp; Pennsylvania Ave NW</td>\n",
       "      <td>31201</td>\n",
       "      <td>15th &amp; P St NW</td>\n",
       "      <td>W00883</td>\n",
       "      <td>Member</td>\n",
       "    </tr>\n",
       "  </tbody>\n",
       "</table>\n",
       "</div>"
      ],
      "text/plain": [
       "   Duration           Start date             End date  Start station number  \\\n",
       "0      1012  2010-09-20 11:27:04  2010-09-20 11:43:56                 31208   \n",
       "1        61  2010-09-20 11:41:22  2010-09-20 11:42:23                 31209   \n",
       "2      2690  2010-09-20 12:05:37  2010-09-20 12:50:27                 31600   \n",
       "3      1406  2010-09-20 12:06:05  2010-09-20 12:29:32                 31600   \n",
       "4      1413  2010-09-20 12:10:43  2010-09-20 12:34:17                 31100   \n",
       "\n",
       "                   Start station  End station number  \\\n",
       "0       M St & New Jersey Ave SE               31108   \n",
       "1                 1st & N St  SE               31209   \n",
       "2                  5th & K St NW               31100   \n",
       "3                  5th & K St NW               31602   \n",
       "4  19th St & Pennsylvania Ave NW               31201   \n",
       "\n",
       "                     End station Bike number Member type  \n",
       "0                  4th & M St SW      W00742      Member  \n",
       "1                 1st & N St  SE      W00032      Member  \n",
       "2  19th St & Pennsylvania Ave NW      W00993      Member  \n",
       "3        Park Rd & Holmead Pl NW      W00344      Member  \n",
       "4                 15th & P St NW      W00883      Member  "
      ]
     },
     "execution_count": 5,
     "metadata": {},
     "output_type": "execute_result"
    }
   ],
   "source": [
    "df.head()"
   ]
  },
  {
   "cell_type": "code",
   "execution_count": 6,
   "metadata": {},
   "outputs": [
    {
     "data": {
      "text/plain": [
       "W01091                   271\n",
       "W01084                   261\n",
       "W00556                   253\n",
       "W00637                   243\n",
       "W00621                   238\n",
       "W00570                   232\n",
       "W00856                   228\n",
       "W00277                   225\n",
       "W00827                   225\n",
       "W00194                   225\n",
       "W00903                   225\n",
       "W00446                   225\n",
       "W00948                   224\n",
       "W00786                   223\n",
       "W01068                   222\n",
       "W00612                   221\n",
       "W01001                   221\n",
       "W00707                   221\n",
       "W00428                   220\n",
       "W00804                   218\n",
       "W00377                   218\n",
       "W00973                   218\n",
       "W00961                   217\n",
       "W00928                   217\n",
       "W00318                   215\n",
       "W00289                   214\n",
       "W01071                   214\n",
       "W00975                   213\n",
       "W00615                   213\n",
       "W00789                   212\n",
       "                        ... \n",
       "W01042                    15\n",
       "?(0x000000000D11CC6B)     15\n",
       "W00934                    14\n",
       "W00587                    13\n",
       "W00405                    12\n",
       "W00096                    12\n",
       "?(0x000000001A4D699F)     10\n",
       "W00347                    10\n",
       "W00868                     9\n",
       "W00112                     9\n",
       "W01110                     9\n",
       "?(0xFFFFFFFFFAF0B948)      8\n",
       "W00075                     6\n",
       "W00367                     5\n",
       "W00828                     4\n",
       "W00972                     4\n",
       "?(0x000000000CB3A1A6)      3\n",
       "W00442                     3\n",
       "W00210                     2\n",
       "W01038                     2\n",
       "W00293                     2\n",
       "W00985                     1\n",
       "?(0xFFFFFFFFFBAC9E2A)      1\n",
       "W00659                     1\n",
       "W00537                     1\n",
       "W00372                     1\n",
       "W01103                     1\n",
       "W00965                     1\n",
       "W00882                     1\n",
       "W00016                     1\n",
       "Name: Bike number, Length: 959, dtype: int64"
      ]
     },
     "execution_count": 6,
     "metadata": {},
     "output_type": "execute_result"
    }
   ],
   "source": [
    "df['Bike number'].value_counts()"
   ]
  },
  {
   "cell_type": "code",
   "execution_count": 1,
   "metadata": {},
   "outputs": [],
   "source": [
    "import sklearn"
   ]
  },
  {
   "cell_type": "code",
   "execution_count": 7,
   "metadata": {},
   "outputs": [
    {
     "data": {
      "text/plain": [
       "Index(['Duration', 'Start date', 'End date', 'Start station number',\n",
       "       'Start station', 'End station number', 'End station', 'Bike number',\n",
       "       'Member type'],\n",
       "      dtype='object')"
      ]
     },
     "execution_count": 7,
     "metadata": {},
     "output_type": "execute_result"
    }
   ],
   "source": [
    "df.columns"
   ]
  },
  {
   "cell_type": "code",
   "execution_count": 17,
   "metadata": {},
   "outputs": [],
   "source": [
    "x = df[['Duration','Start station number','End station number']]\n",
    "y = df['Member type']"
   ]
  },
  {
   "cell_type": "code",
   "execution_count": 18,
   "metadata": {},
   "outputs": [
    {
     "data": {
      "text/plain": [
       "2    91586\n",
       "1    24001\n",
       "0       10\n",
       "Name: Member type, dtype: int64"
      ]
     },
     "execution_count": 18,
     "metadata": {},
     "output_type": "execute_result"
    }
   ],
   "source": [
    "df['Member type'].value_counts()"
   ]
  },
  {
   "cell_type": "code",
   "execution_count": 13,
   "metadata": {},
   "outputs": [],
   "source": [
    "df = df.replace('Member',2)\n",
    "df = df.replace('Casual',1)\n",
    "df = df.replace('Unknown',0)"
   ]
  },
  {
   "cell_type": "markdown",
   "metadata": {},
   "source": [
    "GradientBoost Classifier"
   ]
  },
  {
   "cell_type": "code",
   "execution_count": 20,
   "metadata": {},
   "outputs": [],
   "source": [
    "from sklearn.model_selection import train_test_split\n",
    "x_train,x_test,y_train,y_test = train_test_split(x,y,test_size=0.2)"
   ]
  },
  {
   "cell_type": "code",
   "execution_count": 21,
   "metadata": {},
   "outputs": [
    {
     "data": {
      "text/plain": [
       "0.8646193771626297"
      ]
     },
     "execution_count": 21,
     "metadata": {},
     "output_type": "execute_result"
    }
   ],
   "source": [
    "from sklearn.ensemble import GradientBoostingClassifier\n",
    "model = GradientBoostingClassifier()\n",
    "model.fit(x_train,y_train)\n",
    "model.score(x_test,y_test)"
   ]
  },
  {
   "cell_type": "markdown",
   "metadata": {},
   "source": [
    "Random Forest Classifier"
   ]
  },
  {
   "cell_type": "code",
   "execution_count": 22,
   "metadata": {},
   "outputs": [
    {
     "name": "stderr",
     "output_type": "stream",
     "text": [
      "C:\\Users\\Ankur\\Anaconda3\\lib\\site-packages\\sklearn\\ensemble\\forest.py:246: FutureWarning: The default value of n_estimators will change from 10 in version 0.20 to 100 in 0.22.\n",
      "  \"10 in version 0.20 to 100 in 0.22.\", FutureWarning)\n"
     ]
    },
    {
     "data": {
      "text/plain": [
       "0.8398356401384083"
      ]
     },
     "execution_count": 22,
     "metadata": {},
     "output_type": "execute_result"
    }
   ],
   "source": [
    "from sklearn.ensemble import RandomForestClassifier\n",
    "forest = RandomForestClassifier()\n",
    "forest.fit(x_train,y_train)\n",
    "forest.score(x_test,y_test)"
   ]
  },
  {
   "cell_type": "markdown",
   "metadata": {},
   "source": [
    "Decision Tree Classifier"
   ]
  },
  {
   "cell_type": "code",
   "execution_count": null,
   "metadata": {},
   "outputs": [],
   "source": [
    "from sklearn.tree import DecisionTreeClassifier\n",
    "tree = DecisionTreeClassifier()\n",
    "tree.fit(x_train,y_train)\n",
    "tree.score()"
   ]
  }
 ],
 "metadata": {
  "kernelspec": {
   "display_name": "Python 3",
   "language": "python",
   "name": "python3"
  },
  "language_info": {
   "codemirror_mode": {
    "name": "ipython",
    "version": 3
   },
   "file_extension": ".py",
   "mimetype": "text/x-python",
   "name": "python",
   "nbconvert_exporter": "python",
   "pygments_lexer": "ipython3",
   "version": "3.7.1"
  }
 },
 "nbformat": 4,
 "nbformat_minor": 4
}
